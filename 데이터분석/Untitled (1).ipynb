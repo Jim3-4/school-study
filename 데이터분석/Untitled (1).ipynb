{
 "cells": [
  {
   "cell_type": "code",
   "execution_count": 15,
   "id": "0ea387b5",
   "metadata": {},
   "outputs": [
    {
     "name": "stdout",
     "output_type": "stream",
     "text": [
      "movie_code: 197071 ...\n",
      "1\r"
     ]
    },
    {
     "ename": "AttributeError",
     "evalue": "'NoneType' object has no attribute 'find_all'",
     "output_type": "error",
     "traceback": [
      "\u001b[1;31m---------------------------------------------------------------------------\u001b[0m",
      "\u001b[1;31mAttributeError\u001b[0m                            Traceback (most recent call last)",
      "\u001b[1;32m~\\AppData\\Local\\Temp/ipykernel_7484/941277308.py\u001b[0m in \u001b[0;36m<module>\u001b[1;34m\u001b[0m\n\u001b[0;32m     19\u001b[0m         \u001b[0mhtml_source\u001b[0m \u001b[1;33m=\u001b[0m \u001b[0mBeautifulSoup\u001b[0m\u001b[1;33m(\u001b[0m\u001b[0mhtml\u001b[0m\u001b[1;33m.\u001b[0m\u001b[0mcontent\u001b[0m \u001b[1;33m,\u001b[0m \u001b[1;34m\"html.parser\"\u001b[0m\u001b[1;33m)\u001b[0m\u001b[1;33m\u001b[0m\u001b[1;33m\u001b[0m\u001b[0m\n\u001b[0;32m     20\u001b[0m         \u001b[0mi\u001b[0m \u001b[1;33m=\u001b[0m \u001b[1;36m0\u001b[0m\u001b[1;33m\u001b[0m\u001b[1;33m\u001b[0m\u001b[0m\n\u001b[1;32m---> 21\u001b[1;33m         \u001b[1;32mfor\u001b[0m \u001b[0mli\u001b[0m \u001b[1;32min\u001b[0m \u001b[0mhtml_source\u001b[0m\u001b[1;33m.\u001b[0m\u001b[0mfind\u001b[0m\u001b[1;33m(\u001b[0m\u001b[1;34m'div'\u001b[0m\u001b[1;33m,\u001b[0m \u001b[1;33m{\u001b[0m\u001b[1;34m'class'\u001b[0m\u001b[1;33m:\u001b[0m \u001b[1;34m'score_result'\u001b[0m\u001b[1;33m}\u001b[0m\u001b[1;33m)\u001b[0m\u001b[1;33m.\u001b[0m\u001b[0mfind_all\u001b[0m\u001b[1;33m(\u001b[0m\u001b[1;33m(\u001b[0m\u001b[1;34m'li'\u001b[0m\u001b[1;33m)\u001b[0m\u001b[1;33m)\u001b[0m\u001b[1;33m:\u001b[0m\u001b[1;33m\u001b[0m\u001b[1;33m\u001b[0m\u001b[0m\n\u001b[0m\u001b[0;32m     22\u001b[0m             \u001b[1;31m# print 평점 :\", li.em.text\u001b[0m\u001b[1;33m\u001b[0m\u001b[1;33m\u001b[0m\u001b[1;33m\u001b[0m\u001b[0m\n\u001b[0;32m     23\u001b[0m             \u001b[0mhtml_reviews\u001b[0m \u001b[1;33m=\u001b[0m \u001b[0mhtml_source\u001b[0m\u001b[1;33m.\u001b[0m\u001b[0mfind\u001b[0m\u001b[1;33m(\u001b[0m \u001b[1;34m'span'\u001b[0m\u001b[1;33m,\u001b[0m \u001b[1;33m{\u001b[0m\u001b[1;34m'id'\u001b[0m\u001b[1;33m:\u001b[0m\u001b[1;34m'_filtered_ment_'\u001b[0m \u001b[1;33m+\u001b[0m \u001b[0mstr\u001b[0m\u001b[1;33m(\u001b[0m\u001b[0mi\u001b[0m\u001b[1;33m)\u001b[0m\u001b[1;33m}\u001b[0m\u001b[1;33m)\u001b[0m\u001b[1;33m\u001b[0m\u001b[1;33m\u001b[0m\u001b[0m\n",
      "\u001b[1;31mAttributeError\u001b[0m: 'NoneType' object has no attribute 'find_all'"
     ]
    }
   ],
   "source": [
    "import pandas as pd\n",
    "import requests\n",
    "from bs4 import BeautifulSoup\n",
    "\n",
    "pages = 16\n",
    "# 영화제목 : 분노의질주, 더파더, 러브액츄얼리, 아들의이름으로, 기기괴성형수, 미나리, 쏘우\n",
    "movie_code = [197071]\n",
    "score , reple_text = [],[]\n",
    "\n",
    "for k in range(len(movie_code)):\n",
    "    print('movie_code:',movie_code[k],'...')\n",
    "\n",
    "    # html 을 파싱하여 평점(8보다크면 '1',5보다작으면 '0'), 댓글을 저장\n",
    "    for j in range(1 , pages):\n",
    "        print(j , end='\\r')\n",
    "        html = requests.get('https://movie.naver.com/movie/bi/mi/pointWriteFormList.nhn?code=' +\\\n",
    "            str (movie_code[k] ) + '&type=after&isActualPointWriteExecute= \\\n",
    "        false&isMileageSubscriptionAlready=false&isMileageSubscriptionReject=false&page =' + str(j))\n",
    "        html_source = BeautifulSoup(html.content , \"html.parser\")\n",
    "        i = 0\n",
    "        for li in html_source.find('div', {'class': 'score_result'}).find_all(('li')):\n",
    "            # print 평점 :\", li.em.text\n",
    "            html_reviews = html_source.find( 'span', {'id':'_filtered_ment_' + str(i)})\n",
    "            # 평점이 8보다 크면 긍정, 5보다 작으면 부정\n",
    "            if int(li.em.text )> 8:\n",
    "                score.append(1)\n",
    "                reple_text.append(html_reviews.text.strip())\n",
    "            elif int (li.em.text ) < 5:\n",
    "                score.append(0)\n",
    "                reple_text.append(html_reviews.text.strip())\n",
    "            i += 1\n",
    "\n",
    "# 파일로 저장\n",
    "df = pd.DataFrame([score , reple_text]).T\n",
    "df.columns = ['score','text']\n",
    "df['score'].value_counts()\n",
    "df.to_excel('7movie.xlsx', encoding ='utf-8-sig')\n"
   ]
  },
  {
   "cell_type": "code",
   "execution_count": null,
   "id": "9e4f3884",
   "metadata": {},
   "outputs": [],
   "source": []
  }
 ],
 "metadata": {
  "kernelspec": {
   "display_name": "Python 3 (ipykernel)",
   "language": "python",
   "name": "python3"
  },
  "language_info": {
   "codemirror_mode": {
    "name": "ipython",
    "version": 3
   },
   "file_extension": ".py",
   "mimetype": "text/x-python",
   "name": "python",
   "nbconvert_exporter": "python",
   "pygments_lexer": "ipython3",
   "version": "3.9.6"
  }
 },
 "nbformat": 4,
 "nbformat_minor": 5
}
